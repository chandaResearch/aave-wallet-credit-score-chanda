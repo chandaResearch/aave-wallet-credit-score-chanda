{
 "cells": [
  {
   "cell_type": "markdown",
   "id": "811b793d-3832-48ea-8a58-499f453391c7",
   "metadata": {},
   "source": [
    "# Objective:\n",
    "Create a credit scoring model (0–1000) for wallets using Aave V2 transaction data.#"
   ]
  },
  {
   "cell_type": "markdown",
   "id": "e4913a3a-8645-4c55-91c4-c4c230b1dddf",
   "metadata": {},
   "source": [
    "# Aave V2 Wallet Credit Scoring\n",
    "\n",
    "This notebook builds a machine learning model to assign credit scores (0 to 1000) to wallets based on their transaction behavior on the Aave V2 DeFi protocol.\n",
    "\n",
    "**Goals:**\n",
    "- Load and explore raw transaction data\n",
    "- Engineer wallet-level behavior features\n",
    "- Train a model to generate wallet scores\n",
    "- Analyze and visualize score distribution\n",
    "\n",
    "**Dataset:** Aave V2 user_transactions.json (100K+ DeFi interactions)\n",
    "\n",
    "---\n"
   ]
  },
  {
   "cell_type": "code",
   "execution_count": 5,
   "id": "adb2dd41-b582-4775-acae-ec2fec5966ad",
   "metadata": {},
   "outputs": [],
   "source": [
    "# Basic setup\n",
    "import json\n",
    "import pandas as pd\n",
    "import numpy as np\n",
    "import matplotlib.pyplot as plt\n",
    "import seaborn as sns\n",
    "\n",
    "# For progress bars\n",
    "from tqdm import tqdm\n",
    "\n",
    "# Optional for modeling later\n",
    "from sklearn.ensemble import RandomForestRegressor\n",
    "from sklearn.preprocessing import MinMaxScaler\n",
    "\n",
    "# For cleaner plots\n",
    "sns.set(style=\"whitegrid\")\n"
   ]
  },
  {
   "cell_type": "markdown",
   "id": "ef9aa02d-a367-479c-a765-d9c5c6a620bb",
   "metadata": {},
   "source": [
    "## Step 3: Load and Inspect Raw Transaction Data\n",
    "\n",
    "In this step, we will load the `user_transactions.json` file and explore its structure to understand the available fields and transaction types.\n"
   ]
  },
  {
   "cell_type": "code",
   "execution_count": 10,
   "id": "e45310a6-6350-4cf8-a523-1bb04cd9925b",
   "metadata": {},
   "outputs": [
    {
     "name": "stdout",
     "output_type": "stream",
     "text": [
      "✅ Total records loaded: 100000\n"
     ]
    },
    {
     "data": {
      "text/html": [
       "<div>\n",
       "<style scoped>\n",
       "    .dataframe tbody tr th:only-of-type {\n",
       "        vertical-align: middle;\n",
       "    }\n",
       "\n",
       "    .dataframe tbody tr th {\n",
       "        vertical-align: top;\n",
       "    }\n",
       "\n",
       "    .dataframe thead th {\n",
       "        text-align: right;\n",
       "    }\n",
       "</style>\n",
       "<table border=\"1\" class=\"dataframe\">\n",
       "  <thead>\n",
       "    <tr style=\"text-align: right;\">\n",
       "      <th></th>\n",
       "      <th>_id</th>\n",
       "      <th>userWallet</th>\n",
       "      <th>network</th>\n",
       "      <th>protocol</th>\n",
       "      <th>txHash</th>\n",
       "      <th>logId</th>\n",
       "      <th>timestamp</th>\n",
       "      <th>blockNumber</th>\n",
       "      <th>action</th>\n",
       "      <th>actionData</th>\n",
       "      <th>__v</th>\n",
       "      <th>createdAt</th>\n",
       "      <th>updatedAt</th>\n",
       "    </tr>\n",
       "  </thead>\n",
       "  <tbody>\n",
       "    <tr>\n",
       "      <th>0</th>\n",
       "      <td>{'$oid': '681d38fed63812d4655f571a'}</td>\n",
       "      <td>0x00000000001accfa9cef68cf5371a23025b6d4b6</td>\n",
       "      <td>polygon</td>\n",
       "      <td>aave_v2</td>\n",
       "      <td>0x695c69acf608fbf5d38e48ca5535e118cc213a89e3d6...</td>\n",
       "      <td>0x695c69acf608fbf5d38e48ca5535e118cc213a89e3d6...</td>\n",
       "      <td>1629178166</td>\n",
       "      <td>1629178166</td>\n",
       "      <td>deposit</td>\n",
       "      <td>{'type': 'Deposit', 'amount': '2000000000', 'a...</td>\n",
       "      <td>0</td>\n",
       "      <td>{'$date': '2025-05-08T23:06:39.465Z'}</td>\n",
       "      <td>{'$date': '2025-05-08T23:06:39.465Z'}</td>\n",
       "    </tr>\n",
       "    <tr>\n",
       "      <th>1</th>\n",
       "      <td>{'$oid': '681aa70dd6df53021cc6f3c0'}</td>\n",
       "      <td>0x000000000051d07a4fb3bd10121a343d85818da6</td>\n",
       "      <td>polygon</td>\n",
       "      <td>aave_v2</td>\n",
       "      <td>0xe6fc162c86b2928b0ba9b82bda672763665152b9de9d...</td>\n",
       "      <td>0xe6fc162c86b2928b0ba9b82bda672763665152b9de9d...</td>\n",
       "      <td>1621525013</td>\n",
       "      <td>1621525013</td>\n",
       "      <td>deposit</td>\n",
       "      <td>{'type': 'Deposit', 'amount': '145000000000000...</td>\n",
       "      <td>0</td>\n",
       "      <td>{'$date': '2025-05-07T00:19:26.159Z'}</td>\n",
       "      <td>{'$date': '2025-05-07T00:19:26.159Z'}</td>\n",
       "    </tr>\n",
       "    <tr>\n",
       "      <th>2</th>\n",
       "      <td>{'$oid': '681d04c2d63812d4654c733e'}</td>\n",
       "      <td>0x000000000096026fb41fc39f9875d164bd82e2dc</td>\n",
       "      <td>polygon</td>\n",
       "      <td>aave_v2</td>\n",
       "      <td>0xe2d7eb815c89331a734ed6f204a06c385a1b39040baa...</td>\n",
       "      <td>0xe2d7eb815c89331a734ed6f204a06c385a1b39040baa...</td>\n",
       "      <td>1627118913</td>\n",
       "      <td>1627118913</td>\n",
       "      <td>deposit</td>\n",
       "      <td>{'type': 'Deposit', 'amount': '100000000000000...</td>\n",
       "      <td>0</td>\n",
       "      <td>{'$date': '2025-05-08T19:23:47.877Z'}</td>\n",
       "      <td>{'$date': '2025-05-08T19:23:47.877Z'}</td>\n",
       "    </tr>\n",
       "    <tr>\n",
       "      <th>3</th>\n",
       "      <td>{'$oid': '681d133bd63812d46551b6ef'}</td>\n",
       "      <td>0x000000000096026fb41fc39f9875d164bd82e2dc</td>\n",
       "      <td>polygon</td>\n",
       "      <td>aave_v2</td>\n",
       "      <td>0x0d63a2eacd82b82f868db825ea7385e6bd8d046ee729...</td>\n",
       "      <td>0x0d63a2eacd82b82f868db825ea7385e6bd8d046ee729...</td>\n",
       "      <td>1627773318</td>\n",
       "      <td>1627773318</td>\n",
       "      <td>deposit</td>\n",
       "      <td>{'type': 'Deposit', 'amount': '400000000000000...</td>\n",
       "      <td>0</td>\n",
       "      <td>{'$date': '2025-05-08T20:25:33.141Z'}</td>\n",
       "      <td>{'$date': '2025-05-08T20:25:33.141Z'}</td>\n",
       "    </tr>\n",
       "    <tr>\n",
       "      <th>4</th>\n",
       "      <td>{'$oid': '681899e4ba49fc91cf2f4454'}</td>\n",
       "      <td>0x0000000000e189dd664b9ab08a33c4839953852c</td>\n",
       "      <td>polygon</td>\n",
       "      <td>aave_v2</td>\n",
       "      <td>0x590eabb812c5006a6f4766f44e6e9d3ad0b5b563de69...</td>\n",
       "      <td>0x590eabb812c5006a6f4766f44e6e9d3ad0b5b563de69...</td>\n",
       "      <td>1618845907</td>\n",
       "      <td>1618845907</td>\n",
       "      <td>redeemunderlying</td>\n",
       "      <td>{'type': 'RedeemUnderlying', 'amount': '501548...</td>\n",
       "      <td>0</td>\n",
       "      <td>{'$date': '2025-05-05T10:58:45.934Z'}</td>\n",
       "      <td>{'$date': '2025-05-05T10:58:45.934Z'}</td>\n",
       "    </tr>\n",
       "  </tbody>\n",
       "</table>\n",
       "</div>"
      ],
      "text/plain": [
       "                                    _id  \\\n",
       "0  {'$oid': '681d38fed63812d4655f571a'}   \n",
       "1  {'$oid': '681aa70dd6df53021cc6f3c0'}   \n",
       "2  {'$oid': '681d04c2d63812d4654c733e'}   \n",
       "3  {'$oid': '681d133bd63812d46551b6ef'}   \n",
       "4  {'$oid': '681899e4ba49fc91cf2f4454'}   \n",
       "\n",
       "                                   userWallet  network protocol  \\\n",
       "0  0x00000000001accfa9cef68cf5371a23025b6d4b6  polygon  aave_v2   \n",
       "1  0x000000000051d07a4fb3bd10121a343d85818da6  polygon  aave_v2   \n",
       "2  0x000000000096026fb41fc39f9875d164bd82e2dc  polygon  aave_v2   \n",
       "3  0x000000000096026fb41fc39f9875d164bd82e2dc  polygon  aave_v2   \n",
       "4  0x0000000000e189dd664b9ab08a33c4839953852c  polygon  aave_v2   \n",
       "\n",
       "                                              txHash  \\\n",
       "0  0x695c69acf608fbf5d38e48ca5535e118cc213a89e3d6...   \n",
       "1  0xe6fc162c86b2928b0ba9b82bda672763665152b9de9d...   \n",
       "2  0xe2d7eb815c89331a734ed6f204a06c385a1b39040baa...   \n",
       "3  0x0d63a2eacd82b82f868db825ea7385e6bd8d046ee729...   \n",
       "4  0x590eabb812c5006a6f4766f44e6e9d3ad0b5b563de69...   \n",
       "\n",
       "                                               logId   timestamp  blockNumber  \\\n",
       "0  0x695c69acf608fbf5d38e48ca5535e118cc213a89e3d6...  1629178166   1629178166   \n",
       "1  0xe6fc162c86b2928b0ba9b82bda672763665152b9de9d...  1621525013   1621525013   \n",
       "2  0xe2d7eb815c89331a734ed6f204a06c385a1b39040baa...  1627118913   1627118913   \n",
       "3  0x0d63a2eacd82b82f868db825ea7385e6bd8d046ee729...  1627773318   1627773318   \n",
       "4  0x590eabb812c5006a6f4766f44e6e9d3ad0b5b563de69...  1618845907   1618845907   \n",
       "\n",
       "             action                                         actionData  __v  \\\n",
       "0           deposit  {'type': 'Deposit', 'amount': '2000000000', 'a...    0   \n",
       "1           deposit  {'type': 'Deposit', 'amount': '145000000000000...    0   \n",
       "2           deposit  {'type': 'Deposit', 'amount': '100000000000000...    0   \n",
       "3           deposit  {'type': 'Deposit', 'amount': '400000000000000...    0   \n",
       "4  redeemunderlying  {'type': 'RedeemUnderlying', 'amount': '501548...    0   \n",
       "\n",
       "                               createdAt  \\\n",
       "0  {'$date': '2025-05-08T23:06:39.465Z'}   \n",
       "1  {'$date': '2025-05-07T00:19:26.159Z'}   \n",
       "2  {'$date': '2025-05-08T19:23:47.877Z'}   \n",
       "3  {'$date': '2025-05-08T20:25:33.141Z'}   \n",
       "4  {'$date': '2025-05-05T10:58:45.934Z'}   \n",
       "\n",
       "                               updatedAt  \n",
       "0  {'$date': '2025-05-08T23:06:39.465Z'}  \n",
       "1  {'$date': '2025-05-07T00:19:26.159Z'}  \n",
       "2  {'$date': '2025-05-08T19:23:47.877Z'}  \n",
       "3  {'$date': '2025-05-08T20:25:33.141Z'}  \n",
       "4  {'$date': '2025-05-05T10:58:45.934Z'}  "
      ]
     },
     "execution_count": 10,
     "metadata": {},
     "output_type": "execute_result"
    }
   ],
   "source": [
    "import json\n",
    "import pandas as pd\n",
    "\n",
    "# Load the JSON file\n",
    "with open('user-wallet-transactions.json', 'r') as f:\n",
    "    transactions = json.load(f)\n",
    "\n",
    "# Convert to DataFrame\n",
    "df = pd.DataFrame(transactions)\n",
    "\n",
    "# Show total and sample data\n",
    "print(\"✅ Total records loaded:\", len(df))\n",
    "df.head()\n",
    "\n",
    "\n"
   ]
  },
  {
   "cell_type": "markdown",
   "id": "22e46766-9bfe-4810-b8db-8c77531990c1",
   "metadata": {},
   "source": [
    "#Step 4: Feature Engineering – Wallet Behavior\n",
    "🧠 Objective:\n",
    "Group transactions by wallet and compute behavior-based features to later use for scoring.#"
   ]
  },
  {
   "cell_type": "markdown",
   "id": "2d0fc51e-3e53-4fe0-8760-5e3bd2bbee77",
   "metadata": {},
   "source": [
    "## Step 4: Feature Engineering – Wallet Behavior Summary\n",
    "\n",
    "We will now group transactions by each wallet address and extract meaningful features such as:\n",
    "- Total number of transactions\n",
    "- Number of deposits, borrows, repays, redemptions, and liquidations\n",
    "- Ratios like repay/borrow and redeem/deposit\n",
    "- Time span of activity (active days)\n"
   ]
  },
  {
   "cell_type": "code",
   "execution_count": 12,
   "id": "974a7b36-5366-4652-9d22-a12cedc5b45b",
   "metadata": {},
   "outputs": [
    {
     "data": {
      "text/plain": [
       "Index(['_id', 'userWallet', 'network', 'protocol', 'txHash', 'logId',\n",
       "       'timestamp', 'blockNumber', 'action', 'actionData', '__v', 'createdAt',\n",
       "       'updatedAt'],\n",
       "      dtype='object')"
      ]
     },
     "execution_count": 12,
     "metadata": {},
     "output_type": "execute_result"
    }
   ],
   "source": [
    "df.columns\n"
   ]
  },
  {
   "cell_type": "markdown",
   "id": "f9db7f30-4b22-4d5b-99d2-39b5c430c4b4",
   "metadata": {},
   "source": [
    "## ✅ Key Mappings for Feature Engineering:\n",
    "What We Need\tColumn Name in Your Data\n",
    "Wallet address\t'userWallet'\n",
    "Transaction type/action\t'action'\n",
    "Timestamp\t'timestamp'"
   ]
  },
  {
   "cell_type": "code",
   "execution_count": 13,
   "id": "68dad2a5-8fe6-473c-ad6c-ba91aed4f4d9",
   "metadata": {},
   "outputs": [
    {
     "data": {
      "text/plain": [
       "action\n",
       "deposit             37808\n",
       "redeemunderlying    32305\n",
       "borrow              17086\n",
       "repay               12553\n",
       "liquidationcall       248\n",
       "Name: count, dtype: int64"
      ]
     },
     "execution_count": 13,
     "metadata": {},
     "output_type": "execute_result"
    }
   ],
   "source": [
    "df['action'].value_counts()\n"
   ]
  },
  {
   "cell_type": "markdown",
   "id": "fdbc93c3-d33e-4e1b-911a-786e8faaf7df",
   "metadata": {},
   "source": [
    "## these are five core Aave transaction types"
   ]
  },
  {
   "cell_type": "markdown",
   "id": "324b9c98-6144-4dc0-b501-f42e603ffb6e",
   "metadata": {},
   "source": [
    "## Next Step: Add a Simple Heuristic Credit Scoring System\n",
    "**We'll define a rule-based credit score between 0 and 1000 using behavior patterns like:\n",
    "\n",
    "Regular repayments (📈 increases score)\n",
    "\n",
    "Lots of borrowing without repayment (📉 reduces score)\n",
    "\n",
    "Liquidations (📉 sharply reduce score)\n",
    "\n",
    "Long active duration (📈 improves score)\n",
    "\n",
    "📌 Add This Code Block to Your N** #"
   ]
  },
  {
   "cell_type": "code",
   "execution_count": 16,
   "id": "bb305c6f-1144-467d-a910-0b3a6137f3fb",
   "metadata": {},
   "outputs": [],
   "source": [
    "# Count each action type per wallet\n",
    "txn_counts = df.pivot_table(index='userWallet', \n",
    "                            columns='action', \n",
    "                            aggfunc='size', \n",
    "                            fill_value=0)\n",
    "\n",
    "txn_counts['total_txns'] = txn_counts.sum(axis=1)\n",
    "\n",
    "# Convert timestamps\n",
    "df['timestamp'] = pd.to_datetime(df['timestamp'])\n",
    "\n",
    "# Time activity span per wallet\n",
    "wallet_times = df.groupby('userWallet')['timestamp'].agg(['min', 'max'])\n",
    "wallet_times['active_days'] = (wallet_times['max'] - wallet_times['min']).dt.days + 1\n",
    "\n",
    "# Merge both together\n",
    "features = txn_counts.merge(wallet_times[['active_days']], left_index=True, right_index=True)\n",
    "features.reset_index(inplace=True)\n",
    "features.rename(columns={'userWallet': 'wallet'}, inplace=True)\n",
    "\n",
    "# Optional ratios\n",
    "features['repay_borrow_ratio'] = features.get('repay', 0) / (features.get('borrow', 0) + 1)\n",
    "features['redeem_deposit_ratio'] = features.get('redeemunderlying', 0) / (features.get('deposit', 0) + 1)\n"
   ]
  },
  {
   "cell_type": "code",
   "execution_count": 17,
   "id": "ea025fdd-7e15-477e-83e3-30bfc16d94cc",
   "metadata": {},
   "outputs": [
    {
     "data": {
      "text/html": [
       "<div>\n",
       "<style scoped>\n",
       "    .dataframe tbody tr th:only-of-type {\n",
       "        vertical-align: middle;\n",
       "    }\n",
       "\n",
       "    .dataframe tbody tr th {\n",
       "        vertical-align: top;\n",
       "    }\n",
       "\n",
       "    .dataframe thead th {\n",
       "        text-align: right;\n",
       "    }\n",
       "</style>\n",
       "<table border=\"1\" class=\"dataframe\">\n",
       "  <thead>\n",
       "    <tr style=\"text-align: right;\">\n",
       "      <th></th>\n",
       "      <th>wallet</th>\n",
       "      <th>credit_score</th>\n",
       "    </tr>\n",
       "  </thead>\n",
       "  <tbody>\n",
       "    <tr>\n",
       "      <th>0</th>\n",
       "      <td>0x00000000001accfa9cef68cf5371a23025b6d4b6</td>\n",
       "      <td>500</td>\n",
       "    </tr>\n",
       "    <tr>\n",
       "      <th>1</th>\n",
       "      <td>0x000000000051d07a4fb3bd10121a343d85818da6</td>\n",
       "      <td>500</td>\n",
       "    </tr>\n",
       "    <tr>\n",
       "      <th>2</th>\n",
       "      <td>0x000000000096026fb41fc39f9875d164bd82e2dc</td>\n",
       "      <td>500</td>\n",
       "    </tr>\n",
       "    <tr>\n",
       "      <th>3</th>\n",
       "      <td>0x0000000000e189dd664b9ab08a33c4839953852c</td>\n",
       "      <td>550</td>\n",
       "    </tr>\n",
       "    <tr>\n",
       "      <th>4</th>\n",
       "      <td>0x0000000002032370b971dabd36d72f3e5a7bf1ee</td>\n",
       "      <td>600</td>\n",
       "    </tr>\n",
       "  </tbody>\n",
       "</table>\n",
       "</div>"
      ],
      "text/plain": [
       "                                       wallet  credit_score\n",
       "0  0x00000000001accfa9cef68cf5371a23025b6d4b6           500\n",
       "1  0x000000000051d07a4fb3bd10121a343d85818da6           500\n",
       "2  0x000000000096026fb41fc39f9875d164bd82e2dc           500\n",
       "3  0x0000000000e189dd664b9ab08a33c4839953852c           550\n",
       "4  0x0000000002032370b971dabd36d72f3e5a7bf1ee           600"
      ]
     },
     "execution_count": 17,
     "metadata": {},
     "output_type": "execute_result"
    }
   ],
   "source": [
    "# Initialize score with a base of 500\n",
    "def calculate_score(row):\n",
    "    score = 500\n",
    "    \n",
    "    # Positive signals\n",
    "    if row.get('repay', 0) > 0:\n",
    "        score += 100\n",
    "    if row.get('repay_borrow_ratio', 0) > 1:\n",
    "        score += 100\n",
    "    if row.get('redeem_deposit_ratio', 0) > 1:\n",
    "        score += 50\n",
    "    if row['active_days'] > 30:\n",
    "        score += 50\n",
    "        \n",
    "    # Negative signals\n",
    "    if row.get('liquidationcall', 0) > 0:\n",
    "        score -= 200\n",
    "    if row.get('repay', 0) == 0 and row.get('borrow', 0) > 0:\n",
    "        score -= 100\n",
    "\n",
    "    # Bound score between 0 and 1000\n",
    "    return max(0, min(score, 1000))\n",
    "\n",
    "# Apply to all wallets\n",
    "features['credit_score'] = features.apply(calculate_score, axis=1)\n",
    "\n",
    "# Preview\n",
    "features[['wallet', 'credit_score']].head()\n"
   ]
  },
  {
   "cell_type": "code",
   "execution_count": 18,
   "id": "689d5297-e423-420b-b830-2a681a7409d0",
   "metadata": {},
   "outputs": [
    {
     "name": "stdout",
     "output_type": "stream",
     "text": [
      "✅ Saved wallet_scores.csv\n"
     ]
    }
   ],
   "source": [
    "# Save only wallet and credit score\n",
    "features[['wallet', 'credit_score']].to_csv('wallet_scores.csv', index=False)\n",
    "\n",
    "print(\"✅ Saved wallet_scores.csv\")\n"
   ]
  },
  {
   "cell_type": "markdown",
   "id": "1c172c14-9914-4587-8c2b-7b52b04f2a19",
   "metadata": {},
   "source": [
    "#step 7: Plot Score Distribution Histogram\n",
    "**This will help you visualize how the scores are spread across the wallets. ** #"
   ]
  },
  {
   "cell_type": "code",
   "execution_count": 19,
   "id": "f4638be9-3c52-48a4-8e4e-565c009dd5d6",
   "metadata": {},
   "outputs": [
    {
     "data": {
      "image/png": "[encoded data removed]",
      "text/plain": [
       "<Figure size 1000x600 with 1 Axes>"
      ]
     },
     "metadata": {},
     "output_type": "display_data"
    }
   ],
   "source": [
    "import matplotlib.pyplot as plt\n",
    "import seaborn as sns\n",
    "\n",
    "# Optional: group into bins of 100\n",
    "bins = list(range(0, 1100, 100))\n",
    "features['score_range'] = pd.cut(features['credit_score'], bins)\n",
    "\n",
    "# Plot histogram\n",
    "plt.figure(figsize=(10, 6))\n",
    "sns.histplot(features['credit_score'], bins=10, kde=False)\n",
    "plt.title(\"Wallet Credit Score Distribution\")\n",
    "plt.xlabel(\"Credit Score\")\n",
    "plt.ylabel(\"Number of Wallets\")\n",
    "plt.grid(True)\n",
    "plt.tight_layout()\n",
    "plt.savefig('score_distribution.png')\n",
    "plt.show()\n"
   ]
  },
  {
   "cell_type": "markdown",
   "id": "8dfd95ef-f383-4bd9-9482-4f6e9fa42213",
   "metadata": {},
   "source": [
    "## 📊 Score Distribution Insights\n",
    "\n",
    "- The majority of wallets received scores between **500–700**, indicating average usage behavior.\n",
    "- A small number of wallets earned **800+ scores**, which reflects highly responsible and consistent DeFi users.\n",
    "- Very few wallets scored below **300**, showing that extreme risk behavior like liquidations or unpaid loans is relatively rare.\n",
    "- A noticeable cluster around **500** reflects users who neither repaid nor defaulted — neutral or inactive profiles.\n"
   ]
  },
  {
   "cell_type": "code",
   "execution_count": null,
   "id": "65c91122-8dbf-441a-8934-5317fafe0da3",
   "metadata": {},
   "outputs": [],
   "source": []
  }
 ],
 "metadata": {
  "kernelspec": {
   "display_name": "Python 3 (ipykernel)",
   "language": "python",
   "name": "python3"
  },
  "language_info": {
   "codemirror_mode": {
    "name": "ipython",
    "version": 3
   },
   "file_extension": ".py",
   "mimetype": "text/x-python",
   "name": "python",
   "nbconvert_exporter": "python",
   "pygments_lexer": "ipython3",
   "version": "3.12.5"
  }
 },
 "nbformat": 4,
 "nbformat_minor": 5
}
